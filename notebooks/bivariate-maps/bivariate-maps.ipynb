{
 "cells": [
  {
   "cell_type": "code",
   "execution_count": null,
   "metadata": {},
   "outputs": [],
   "source": [
    "import warnings\n",
    "warnings.filterwarnings('ignore')"
   ]
  },
  {
   "cell_type": "markdown",
   "metadata": {},
   "source": [
    "# Bivariate Choropleth Maps\n",
    "\n",
    "[Jeff Allen](http://jamaps.github.io)\n",
    "\n",
    "April, 2023"
   ]
  },
  {
   "cell_type": "markdown",
   "metadata": {},
   "source": [
    "Bivariate choropleth maps are pretty two-bular. They use **colour** to represent the values of **two** different data variables on the same map. Check out this map of neighbourhood material deprivation (a combined metric of lower income, education, employment rates, etc.) and quality of cycling infrastructure in Winnipeg."
   ]
  },
  {
   "cell_type": "markdown",
   "metadata": {},
   "source": [
    "<img src=\"images/winnipeg-bivariate-map.png\" width=\"501\">"
   ]
  },
  {
   "cell_type": "markdown",
   "metadata": {},
   "source": [
    "Of course, we can always just map these two variables individually. However, overlaying them onto a single map can be incredibly useful for highlighting areas of correlation (or lack thereof) at different scales.\n",
    "\n",
    "For example, in the bivariate map above, we can quickly identify areas with greater material deprivation but a lack of cycling infrastructure (in pink). These neighborhoods arguably should be at the top of the list for new investments in cycling infrastructure. The dark purple areas are those with high material deprivation but good cycling infrastructure, while the green areas are wealthier areas with good cycling infrastructure.\n",
    "\n",
    "These types of maps can aid effective spatial storytelling and communication of findings, highlighting specific local areas of need, and be a useful exploratory analysis step before more sophisticated spatial modeling.\n",
    "\n",
    "In this tutorial, we're going to cover how to create bivariate choropleth maps like these using [Python](https://www.python.org/), mostly using [geoPandas](https://geopandas.org/), with some final touch-ups and legend design in [Inkscape](https://inkscape.org/). The example data will be on urban health-related data in Canada (replicating the map above), but the methods and code can be applied to anywhere with two quantitative variables linked to the same set of geometries.\n",
    "\n",
    "As a short side note on history, it is surprising that despite centuries of thematic maps showing multivariate data, bivariate choropleths are a recent creation. They gained popularity in the 1970s via maps created by the U.S. Bureau of the Census ([DOI](https://doi.org/10.1559/152304075784313250)). Here's one of their maps. I believe these were the first published bivariate maps, but if you are reading this and know of earlier bivariate maps, please let me know. I'd be super interested to see them."
   ]
  },
  {
   "cell_type": "markdown",
   "metadata": {},
   "source": [
    "<img src=\"images/us-census-income-education-1975-paper.png\" width=\"501\">"
   ]
  },
  {
   "cell_type": "markdown",
   "metadata": {},
   "source": [
    "## Prerequisites\n",
    "\n",
    "Prior knowledge of Python, including `pandas` and `geopandas`, as well as Inkscape or similar graphic design software, would be helpful for the following tutorial.\n",
    "\n",
    "Click [here](https://github.com/schoolofcities/mapping-workshops-2023/raw/main/notebooks/bivariate-maps/bivariate-maps.zip) to download this article as a Jupyter Notebook alongside the datasets required. In the download, there is also a standalone Python script, if you want to run the steps all-at-once or integrate with anything else you have cooking.\n",
    "\n",
    "You can also run the notebook [Binder](https://mybinder.org/v2/gh/schoolofcities/mapping-workshops-2023/HEAD?urlpath=lab%2Ftree%2Fnotebooks%2Fbivariate-maps%2Fbivariate-maps.ipynb)\n",
    "\n",
    "If you are running the notebook and/or script locally (generally recommended), you will need to use the following libraries. You'll have to install them via `pip` or `conda` if you do not have them installed already."
   ]
  },
  {
   "cell_type": "code",
   "execution_count": null,
   "metadata": {},
   "outputs": [],
   "source": [
    "import math\n",
    "import pandas as pd\n",
    "import geopandas as gpd\n",
    "import mapclassify\n",
    "import matplotlib.pyplot as plt\n",
    "from matplotlib.patches import Patch"
   ]
  },
  {
   "cell_type": "markdown",
   "metadata": {},
   "source": [
    "## Loading Data\n",
    "\n",
    "We're going to replicate the map of Winnipeg shown at the top of this page. I've pre-filtered the source datasets for Winnipeg, and they are included in the download link above. The datasets we'll be using are:\n",
    "- [Census Dissemination Areas (DA) Polygons](https://www12.statcan.gc.ca/census-recensement/2021/geo/sip-pis/boundary-limites/index-eng.cfm)\n",
    "- [Canadian Marginalization Index (CAN-Marg)](https://ontariohealthprofiles.ca/canmargCAN.php)\n",
    "- [Canadian Bikeway Comfort and Safety Classification system (Can-BICS)](https://www.arcgis.com/home/item.html?id=c6d2917c4a7d4fb4a8e7a615369b68d5)\n",
    "\n",
    "We're also going to add three additional layers solely for cartographic purposes (i.e. as reference layers on the final map)\n",
    "- [Census Subdivision (CSD) Polygon](https://www12.statcan.gc.ca/census-recensement/2021/geo/sip-pis/boundary-limites/index-eng.cfm) - i.e. a boundary polygon for Winnipeg\n",
    "- [Major Streets from OpenStreetMap](https://www.openstreetmap.org/#map=11/49.8787/-97.1514)\n",
    "- [Rivers from OpenStreetMap](https://www.openstreetmap.org/#map=11/49.8787/-97.1514)\n",
    "\n",
    "To get started, let's read the first three data layers and merge them into a single `geoDataFrame`, joining by the Dissemination Area unique id, `dauid`. We'll also load the three carotgraphic reference layers."
   ]
  },
  {
   "cell_type": "code",
   "execution_count": null,
   "metadata": {},
   "outputs": [],
   "source": [
    "gdf = gpd.read_file(\"data/dissemination-area-winnipeg-2016.geojson\")\n",
    "dfm = pd.read_csv(\"data/can-marg-manitoba-2016.csv\")\n",
    "dfb = pd.read_csv(\"data/can-bics-winnipeg.csv\")\n",
    "\n",
    "gdf = gdf.merge(dfb, how='left', on='dauid').merge(dfm, how='left', on='dauid')\n",
    "\n",
    "csd = gpd.read_file(\"data/csd-winnipeg-2016.geojson\")\n",
    "osm_streets = gpd.read_file(\"data/streets-osm-winnipeg.geojson\")\n",
    "osm_rivers = gpd.read_file(\"data/river-osm-winnipeg.geojson\")"
   ]
  },
  {
   "cell_type": "markdown",
   "metadata": {},
   "source": [
    "Let's pick two variables to map, one from each of the tabular datasets:\n",
    "1) **Material resources** from CAN-Marg - an indicator of individual and community access to and attainment of basic material needs (including housing, income, education, employment). The higher the value, the fewer the resources (i.e. greater deprivation).\n",
    "2) **Can-BICS continuous metric** - a weighted sum of the quality of bike infrastructure within a buffer of each DA. The higher the value, the better the infrastructure.\n",
    "\n",
    "Here's a subset of what we want to map, the two variables noted above, plus the geometry data required to plot the data."
   ]
  },
  {
   "cell_type": "code",
   "execution_count": null,
   "metadata": {},
   "outputs": [],
   "source": [
    "gdf[[\"dauid\",\"material_resources_DA16\",\"CBICS_cont\",\"geometry\"]].head(8)"
   ]
  },
  {
   "cell_type": "markdown",
   "metadata": {},
   "source": [
    "## Univariate Choropleth Maps\n",
    "\n",
    "GeoPandas has a built-in `plot` function that makes it very easy to create univariate choropleth maps for any quantitative variable. In the code below, we use **quantiles** (equal number of DAs in each coloured group) to create choropleths using  `geopandas` and `matplotlib`. \n",
    "\n",
    "If you're interested in learning more about creating univariate choropleth maps in Python, including how to classify data, check out the Geographic Data Science textbook's [chapter](https://geographicdata.science/book/notebooks/05_choropleth.html) on the topic. You can also refer to the `geopandas.GeoDataFrame.plot` [documentation](https://geopandas.org/en/stable/docs/reference/api/geopandas.GeoDataFrame.plot.html) for more information.\n",
    "\n",
    "Creating similar maps in QGIS is also straightforward. Simply load the data, right-click on the layer, go to `properties`, then `symbology`, and then select `Graduated`. From here, you'll have access to a wide range of options for colours and classification schemes to create informative univariate choropleth maps."
   ]
  },
  {
   "cell_type": "code",
   "execution_count": null,
   "metadata": {},
   "outputs": [],
   "source": [
    "fig, ax = plt.subplots(ncols=2, figsize=(7,6))\n",
    "\n",
    "gdf.plot(\n",
    "    column = \"material_resources_DA16\", \n",
    "    cmap = 'YlOrRd', \n",
    "    scheme = \"Quantiles\", \n",
    "    legend = True,\n",
    "    ax=ax[0],\n",
    "    legend_kwds = {\n",
    "        \"loc\": \"lower left\",\n",
    "        \"fontsize\": 7,\n",
    "        \"title\": \"Lack of Material\\nResources\",\n",
    "        \"alignment\": \"left\",\n",
    "        \"reverse\": True\n",
    "    }\n",
    ").set_axis_off();\n",
    "\n",
    "gdf.plot(\n",
    "    column = \"CBICS_cont\", \n",
    "    cmap = 'YlGnBu', \n",
    "    scheme = \"Quantiles\", \n",
    "    legend = True,\n",
    "    ax=ax[1],\n",
    "    legend_kwds = {\n",
    "        \"loc\": \"lower left\",\n",
    "        \"fontsize\": 7,\n",
    "        \"title\": \"Can-BICS\\nContinuous\",\n",
    "        \"alignment\": \"left\",\n",
    "        \"reverse\": True\n",
    "    }\n",
    ").set_axis_off();\n",
    "\n",
    "plt.tight_layout()"
   ]
  },
  {
   "cell_type": "markdown",
   "metadata": {},
   "source": [
    "## Bivariate Classifications\n",
    "\n",
    "The first step towards creating a bivariate map is to classify our data.\n",
    "\n",
    "I'll be focusing 3x3 classifications using quantiles, but the same principles can be applied to any classification type.\n",
    "\n",
    "A bivariate classification has two dimensions, let's call those `X` and `Y`. The legend can be visualized as a 2-dimensional chart. For this example, I'm classifying each dimension into three categories, terming them 0 (low), 1, and 2 (high). We then **concatenate** these two categories together to create a joint classification. For example, a high value in the X dimension and a low value in the Y dimension would be classified as `2-0`. \n",
    "\n",
    "We can then colour based on this joint classification."
   ]
  },
  {
   "cell_type": "markdown",
   "metadata": {},
   "source": [
    "<img src=\"images/eg-legend-classify.svg\" width=\"310\">"
   ]
  },
  {
   "cell_type": "markdown",
   "metadata": {},
   "source": [
    "But how do we do this in Python and geopandas? Behind the scenes of the univariate choropleth maps in the previous section is a Python library called [mapclassify](https://github.com/pysal/mapclassify).\n",
    "\n",
    "Here's an example classifying the Can-BICS variable into `k = 3` quantiles (changing this to k = 5 gives us the same classification in the map above)"
   ]
  },
  {
   "cell_type": "code",
   "execution_count": null,
   "metadata": {},
   "outputs": [],
   "source": [
    "mapclassify.Quantiles(gdf[\"CBICS_cont\"], k = 3)"
   ]
  },
  {
   "cell_type": "markdown",
   "metadata": {},
   "source": [
    "We can use the same function to generate bivariate classifications. Below we create 3x3 square classification using quantiles. A `k = 3` for each variable `X` (Can-BICS cycling infrastructure quality) and `Y` (Can-MARG lack of material resources), and then combine the two together."
   ]
  },
  {
   "cell_type": "code",
   "execution_count": null,
   "metadata": {},
   "outputs": [],
   "source": [
    "gdf['x_group'] = gdf[['CBICS_cont']].apply(mapclassify.Quantiles.make(rolling=True, k = 3))\n",
    "gdf['y_group'] = gdf[['material_resources_DA16']].apply(mapclassify.Quantiles.make(rolling=True, k = 3))\n",
    "gdf['xy_group'] = gdf['x_group'].astype(str) + \"-\" + gdf['y_group'].astype(str)"
   ]
  },
  {
   "cell_type": "markdown",
   "metadata": {},
   "source": [
    "Here's a random sample of the result that we can use to spot check a few results"
   ]
  },
  {
   "cell_type": "code",
   "execution_count": null,
   "metadata": {},
   "outputs": [],
   "source": [
    "gdf[[\"dauid\",\"material_resources_DA16\",\"CBICS_cont\",\"xy_group\"]].sample(5)"
   ]
  },
  {
   "cell_type": "markdown",
   "metadata": {},
   "source": [
    "Now we are ready to make a bivariate map!\n",
    "\n",
    "At this stage, we can also save the classified data to then view it in QGIS or use for web-mapping: `gdf.to_file(\"data/winnipeg-bivariate.geojson\", driver='GeoJSON')`"
   ]
  },
  {
   "cell_type": "markdown",
   "metadata": {},
   "source": [
    "## Bivariate Colours\n",
    "\n",
    "Now that we've classified our data, we can assign colours and make a map! \n",
    "\n",
    "Here are a few examples for colouring that we can choose from:"
   ]
  },
  {
   "cell_type": "markdown",
   "metadata": {},
   "source": [
    "<img src=\"images/eg-legends.svg\" width=\"620\">"
   ]
  },
  {
   "cell_type": "markdown",
   "metadata": {},
   "source": [
    "Let's try to make a simple map using `gpd.plot()` based on our classified data and the first of these colour schemes. \n",
    "\n",
    "The data we have are categorical. To plot categorical data with custom colours, we first have to provide a dictionary to *map* each category to each colour."
   ]
  },
  {
   "cell_type": "code",
   "execution_count": null,
   "metadata": {},
   "outputs": [],
   "source": [
    "color_mapping = {\n",
    "    \"0-2\": \"#f73593\", \n",
    "    \"0-1\": \"#f78fb6\",\n",
    "    \"0-0\": \"#f7fcf5\", \n",
    "    \"1-2\": \"#a53593\",\n",
    "    \"1-1\": \"#a58fb6\", \n",
    "    \"1-0\": \"#a5e8cd\", \n",
    "    \"2-2\": \"#403593\",\n",
    "    \"2-1\": \"#408fa7\",\n",
    "    \"2-0\": \"#40dba7\" \n",
    "}"
   ]
  },
  {
   "cell_type": "markdown",
   "metadata": {},
   "source": [
    "We can then feed this into our plot. We're also going to add the reference layers to make the map a bit more intuitive; the Winnipeg boundary, streets, and rivers."
   ]
  },
  {
   "cell_type": "code",
   "execution_count": null,
   "metadata": {},
   "outputs": [],
   "source": [
    "fig, ax = plt.subplots(figsize=(7,7))\n",
    "\n",
    "# Winnipeg border\n",
    "csd.plot(\n",
    "    edgecolor = \"#c2c2c2\",\n",
    "    linewidth = 4.2,\n",
    "    ax = ax\n",
    ");\n",
    "\n",
    "# bivariate data\n",
    "gdf.plot(\n",
    "    column = \"xy_group\",\n",
    "    categorical = True,\n",
    "    edgecolor = \"white\",\n",
    "    linewidth = 0.2,\n",
    "    ax = ax,\n",
    "    color=gdf[\"xy_group\"].map(color_mapping),\n",
    ").set_axis_off();\n",
    "\n",
    "# Winnipeg streets\n",
    "osm_rivers.plot(\n",
    "    color = \"#c2c2c2\",\n",
    "    linewidth = 0,\n",
    "    ax = ax\n",
    ");\n",
    "\n",
    "# Winnipeg streets\n",
    "osm_streets.plot(\n",
    "    color = \"#5e5e5e\",\n",
    "    linewidth = 0.25,\n",
    "    ax = ax\n",
    ");\n",
    "\n",
    "# custom legend\n",
    "legend_elements = []\n",
    "for key, value in color_mapping.items():\n",
    "    legend_elements.append(Patch(facecolor=value, edgecolor='gray', label=\"\"))\n",
    "ax.legend(\n",
    "    handles=legend_elements, \n",
    "    loc='lower right', \n",
    "    fontsize= 12, \n",
    "    ncol=3, \n",
    "    handletextpad=0.1, \n",
    "    labelspacing = 0.1, \n",
    "    columnspacing = 0.1\n",
    ")\n",
    "ax.text(0.55, 0.1, 'Material\\nDeprivation', transform=ax.transAxes, fontsize=10,\n",
    "        verticalalignment='top')\n",
    "ax.text(0.75, 0.01, 'Quality of Cycling\\nInfrastructure', transform=ax.transAxes, fontsize=10,\n",
    "        verticalalignment='top')"
   ]
  },
  {
   "cell_type": "markdown",
   "metadata": {},
   "source": [
    "Looks great! One wrinkle, however, is that we had to create a custom legend because simply setting`legend = True` didn't work initially. It appears that there is a [known issue](https://github.com/geopandas/geopandas/issues/1269) with plotting categorical data with custom colours. We can try to continue to tinker with this map using `matplotlib`, but personally, I prefer to design more nuanced layout items, such as legends, using graphic design software like Inkscape, particularly if the goal is to create visually appealing \"static\" maps for an article or report."
   ]
  },
  {
   "cell_type": "code",
   "execution_count": null,
   "metadata": {},
   "outputs": [],
   "source": [
    "fig.savefig('images/winnipeg-bivariate-map-python-export.svg')"
   ]
  },
  {
   "cell_type": "markdown",
   "metadata": {},
   "source": [
    "## Layout Design in Inkscape\n",
    "\n",
    "The line of code above exports the figure as an `.svg` (Scalable Vector Graphic). We can open it up in Inkscape (or similar graphic design software) and add layout items such as a title, legend, scale bar, north arrow, and other information.\n",
    "\n",
    "The page size is set to 7x7 inches based on the `plt.subplots(figsize=(7,7))` included at the top of the code used to render the map.\n",
    "\n",
    "Generally, my workflow is to create at least three layers in the following order:\n",
    "- layout (title, legend, scale bar, north arrow, and other info)\n",
    "- map (in this case, the original exported .svg)\n",
    "- background (often just a single rectangle with a solid fill colour)\n",
    "\n",
    "These can be expanded into more layers (or sub-layers) if desired.\n",
    "\n",
    "From a cartographic design side, it's important to aim for *balance*. This is a bit of a subjective notion pertaining to the visual weight of the elements of an image. For example, in the map below, I tried to balance the layout by putting one item in each corner. I purposely used the bottom-left corner for the legend since it takes up the most space and fits nicely within the square-ish cutout of Winnipeg's border.\n",
    "\n",
    "I also used a grid to align some of the items such as the map frame, title, north arrow, and scale bar. Overall, creating these layout items didn't take too long, around 20 minutes or so.\n",
    "\n",
    "Here's a screenshot of Inkscape showing all the items in the `layout` layer that I created."
   ]
  },
  {
   "cell_type": "markdown",
   "metadata": {},
   "source": [
    "<img src=\"images/inkscape-screenshot.png\" width=\"700\">"
   ]
  },
  {
   "cell_type": "markdown",
   "metadata": {},
   "source": [
    "And here's the final map! We can export this to any resolution that we want. This is 300dpi for 7\"x7\" (2100x2100 px), a nice size for fitting into a report."
   ]
  },
  {
   "cell_type": "markdown",
   "metadata": {},
   "source": [
    "<img src=\"images/winnipeg-bivariate-map.png\" width=\"699\">"
   ]
  },
  {
   "cell_type": "markdown",
   "metadata": {},
   "source": [
    "## Final Thoughts\n",
    "\n",
    "The classification method (e.g., quantiles, equal breaks, etc.), the number of classes, and of course, the colours can easily be tinkered with.\n",
    "\n",
    "A noted drawback with bivariate maps is that they are often not initially intuitive and sometimes require a good amount of looking back-and-forth with the legend, especially compared to univariate choropleth maps. Even with a 3x3 legend like the map above, it can take a bit of time to read the map and understand and parse out specific values (especially for the middle values). If you're more interested in understanding each variable on its own, rather than a direct comparison, it's probably best to stick with two side-by-side univariate choropleth maps. If you want to allow for comparison but keep things easier to read, a 2x2 legend might be better, but remember that different aggregation can lead to varying results!"
   ]
  },
  {
   "cell_type": "markdown",
   "metadata": {},
   "source": [
    "## Additional Resources\n",
    "\n",
    "- [Wikipedia page on multivariate maps](https://en.wikipedia.org/wiki/Multivariate_map)\n",
    "- [Color Statistical Mapping by the U.S. Bureau of the Census](https://doi.org/10.1559/152304075784313250) | (what I think might be the first published bivariate maps)\n",
    "- [Bivariate maps in QGIS](https://www.joshuastevens.net/cartography/make-a-bivariate-choropleth-map/) | by Joshua Stevens\n",
    "- [Bivariate maps in R](https://timogrossenbacher.ch/2019/04/bivariate-maps-with-ggplot2-and-sf/) | by Timo Grossenbacher"
   ]
  }
 ],
 "metadata": {
  "kernelspec": {
   "display_name": "Python 3 (ipykernel)",
   "language": "python",
   "name": "python3"
  },
  "language_info": {
   "codemirror_mode": {
    "name": "ipython",
    "version": 3
   },
   "file_extension": ".py",
   "mimetype": "text/x-python",
   "name": "python",
   "nbconvert_exporter": "python",
   "pygments_lexer": "ipython3",
   "version": "3.10.5"
  }
 },
 "nbformat": 4,
 "nbformat_minor": 4
}
