{
 "cells": [
  {
   "cell_type": "code",
   "execution_count": 1,
   "id": "dec01e6b-225e-451e-92f6-061f76d7b220",
   "metadata": {},
   "outputs": [],
   "source": [
    "import warnings\n",
    "warnings.filterwarnings('ignore')"
   ]
  },
  {
   "cell_type": "markdown",
   "id": "a7e4cff5-f856-4a34-80ff-64b44511674f",
   "metadata": {},
   "source": [
    "# Dasymetric Dot Maps\n",
    "\n",
    "[Jeff Allen](http://jamaps.github.io)\n",
    "\n",
    "April, 2023"
   ]
  },
  {
   "cell_type": "markdown",
   "id": "2b017d54-d0bb-418f-8915-daec770a27b8",
   "metadata": {},
   "source": [
    "intro text"
   ]
  },
  {
   "cell_type": "markdown",
   "id": "b4cd48d3-bda4-4fe2-afe8-1659ed57093f",
   "metadata": {},
   "source": [
    "image"
   ]
  },
  {
   "cell_type": "markdown",
   "id": "46cd16b7-5a62-43f3-8db4-766f1268bc6a",
   "metadata": {},
   "source": [
    "intro text"
   ]
  },
  {
   "cell_type": "markdown",
   "id": "f2bd849a-48a0-4f1f-9dd3-94b4980425ab",
   "metadata": {},
   "source": [
    "## Prerequisites\n",
    "\n",
    "Prior knowledge of Python, including `pandas` and `geopandas`, as well as Inkscape or similar graphic design software, would be helpful for the following tutorial.\n",
    "\n",
    "Click [here](https://github.com/schoolofcities/mapping-workshops-2023/raw/main/notebooks/bivariate-maps/bivariate-maps.zip) to download this article as a Jupyter Notebook alongside the datasets required. In the download, there is also a standalone Python script, if you want to run the steps all-at-once or integrate with anything else you have cooking.\n",
    "\n",
    "You can also run the notebook [Binder](https://mybinder.org/v2/gh/schoolofcities/mapping-workshops-2023/HEAD?urlpath=lab%2Ftree%2Fnotebooks%2Fbivariate-maps%2Fbivariate-maps.ipynb)\n",
    "\n",
    "If you are running the notebook and/or script locally (generally recommended), you will need to use the following libraries. You'll have to install them (e.g. via `pip` or `conda`) if you do not have them installed already."
   ]
  }
 ],
 "metadata": {
  "kernelspec": {
   "display_name": "Python 3 (ipykernel)",
   "language": "python",
   "name": "python3"
  },
  "language_info": {
   "codemirror_mode": {
    "name": "ipython",
    "version": 3
   },
   "file_extension": ".py",
   "mimetype": "text/x-python",
   "name": "python",
   "nbconvert_exporter": "python",
   "pygments_lexer": "ipython3",
   "version": "3.10.5"
  }
 },
 "nbformat": 4,
 "nbformat_minor": 5
}
