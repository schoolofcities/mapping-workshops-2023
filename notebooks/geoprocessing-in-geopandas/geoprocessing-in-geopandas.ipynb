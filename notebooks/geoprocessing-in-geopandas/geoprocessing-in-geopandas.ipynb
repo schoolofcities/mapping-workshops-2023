{
 "cells": [
  {
   "cell_type": "markdown",
   "id": "72c027ec-2805-40f7-aa84-04a895945f18",
   "metadata": {},
   "source": [
    "## Geoprocessing in geopandas\n",
    "\n",
    "geopandas as tonnes of built in functions for processing spatial data. \n",
    "\n",
    "Let's explore a few"
   ]
  },
  {
   "cell_type": "code",
   "execution_count": null,
   "id": "3f3dfa4a-0332-4300-9930-cf84df9591a6",
   "metadata": {},
   "outputs": [],
   "source": [
    "import geopandas as gpd"
   ]
  },
  {
   "cell_type": "markdown",
   "id": "6e3000cc-7942-4481-925a-3f38b9d97500",
   "metadata": {},
   "source": [
    "### Buffering"
   ]
  },
  {
   "cell_type": "code",
   "execution_count": null,
   "id": "11039f15-947b-490e-8f75-8688a33c36e7",
   "metadata": {},
   "outputs": [],
   "source": []
  }
 ],
 "metadata": {
  "kernelspec": {
   "display_name": "Python 3 (ipykernel)",
   "language": "python",
   "name": "python3"
  },
  "language_info": {
   "codemirror_mode": {
    "name": "ipython",
    "version": 3
   },
   "file_extension": ".py",
   "mimetype": "text/x-python",
   "name": "python",
   "nbconvert_exporter": "python",
   "pygments_lexer": "ipython3",
   "version": "3.10.5"
  }
 },
 "nbformat": 4,
 "nbformat_minor": 5
}
