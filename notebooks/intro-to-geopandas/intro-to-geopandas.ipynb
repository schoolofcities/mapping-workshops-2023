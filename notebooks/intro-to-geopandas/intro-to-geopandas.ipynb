{
 "cells": [
  {
   "cell_type": "markdown",
   "id": "fe2b78f2-0880-4fc8-852c-0f546bbf8c6b",
   "metadata": {},
   "source": [
    "## Introduction to geopandas"
   ]
  },
  {
   "cell_type": "markdown",
   "id": "9a025480-bdbf-43c1-9936-28a0d53325b4",
   "metadata": {},
   "source": [
    "GeoPandas is a library for working with spatial (typically geographic) data. It extends the functionality of pandas to support spatial data types and operations, making it easier to analyze, visualize, and manipulate spatial data.\n",
    "\n",
    "Many of the tasks that are typically done within a GIS can be done via geopandas"
   ]
  },
  {
   "cell_type": "code",
   "execution_count": 3,
   "id": "d0a28bdb-440b-4a44-b122-7da8f41b958a",
   "metadata": {},
   "outputs": [],
   "source": [
    "import geopandas as gpd\n",
    "import pandas as pd"
   ]
  },
  {
   "cell_type": "markdown",
   "id": "aca4600d-3e7a-402c-9ef3-1042478bafba",
   "metadata": {},
   "source": [
    "Let's load some spatial data into `GeoDataFrame`s, an extension of pandas `DataFrame`s for working with spatial data."
   ]
  },
  {
   "cell_type": "code",
   "execution_count": null,
   "id": "1c696d98-56ba-481b-96c9-632c0c5a9a46",
   "metadata": {},
   "outputs": [],
   "source": []
  }
 ],
 "metadata": {
  "kernelspec": {
   "display_name": "Python 3 (ipykernel)",
   "language": "python",
   "name": "python3"
  },
  "language_info": {
   "codemirror_mode": {
    "name": "ipython",
    "version": 3
   },
   "file_extension": ".py",
   "mimetype": "text/x-python",
   "name": "python",
   "nbconvert_exporter": "python",
   "pygments_lexer": "ipython3",
   "version": "3.10.5"
  }
 },
 "nbformat": 4,
 "nbformat_minor": 5
}
