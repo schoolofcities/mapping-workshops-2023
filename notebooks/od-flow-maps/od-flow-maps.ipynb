{
 "cells": [
  {
   "cell_type": "code",
   "execution_count": null,
   "id": "530f3321-dfa1-4296-87d5-138009f8b47a",
   "metadata": {},
   "outputs": [],
   "source": [
    "import warnings\n",
    "warnings.filterwarnings('ignore')"
   ]
  },
  {
   "cell_type": "markdown",
   "id": "7c7ca5c5-978e-4a6e-a98e-c4194ddbe536",
   "metadata": {},
   "source": [
    "# Origin-Destination Flow Maps\n",
    "\n",
    "[Jeff Allen](http://jamaps.github.io)\n",
    "\n",
    "April, 2023"
   ]
  },
  {
   "cell_type": "markdown",
   "id": "b8a8fd9a-f333-46a8-8ef8-efb308c0052c",
   "metadata": {},
   "source": [
    "Flow maps are one such way that we can visualize connections and travel between different sets of locations.\n",
    "\n",
    "As an example, we are charting travel to hospitals in Calgary. Each line is a single trip from a home neighbourhood to a hospital, visualized with a very faint transparency, and when overlaid on top of each other, highlight overall patterns of visits.\n",
    "\n",
    "Charts like these are sometimes called hub-and-spoke maps or spider diagrams."
   ]
  },
  {
   "cell_type": "markdown",
   "id": "d6a1e1de-eea3-4a07-9dc1-3325766bd0b0",
   "metadata": {},
   "source": [
    "<img src=\"images/calgary-hospital-map-multipes-python-export.png\" width=\"1800\">"
   ]
  },
  {
   "cell_type": "markdown",
   "id": "04153cb3-fd61-4b7b-9948-3b72f0a91d52",
   "metadata": {},
   "source": [
    "## Prerequisites\n",
    "\n",
    "Prior knowledge of pandas, geopandas, QGIS, and Inkscape (or similar graphic design software) would be helpful for the following tutorial.\n",
    "\n",
    "Click [here](https://github.com/schoolofcities/mapping-workshops-2023/raw/main/notebooks/od-flow-maps/od-flow-maps.zip) to download this article as a Jupyter Notebook alongside the datasets required. In the download, there is also a standalone Python script, if you want to run the steps all-at-once or integrate with anything else you have brewing.\n",
    "\n",
    "You can also run the notebook [Binder](https://mybinder.org/v2/gh/schoolofcities/mapping-workshops-2023/HEAD?urlpath=lab%2Ftree%2Fnotebooks%2Fod-flow-maps%2Fod-flow-maps.ipynb)\n",
    "\n",
    "If you are running the notebook and/or script locally (generally recommended), you will need to use the following libraries. You'll have to install them (e.g. via `pip` or `conda`) if you do not have them installed already."
   ]
  },
  {
   "cell_type": "code",
   "execution_count": null,
   "id": "71a56f71-3ad2-4ba7-9dbc-2ef16673346a",
   "metadata": {},
   "outputs": [],
   "source": [
    "import pandas as pd\n",
    "import geopandas as gpd\n",
    "from shapely.geometry import LineString\n",
    "import matplotlib.pyplot as plt"
   ]
  },
  {
   "cell_type": "markdown",
   "id": "9a1da7a9-c499-4a86-85a2-8ae9c2c90ccb",
   "metadata": {},
   "source": [
    "## Origin-Destination Matrices"
   ]
  },
  {
   "cell_type": "markdown",
   "id": "51e48982-eb48-42a8-9413-eda927e29c05",
   "metadata": {},
   "source": [
    "Origin-Destination matrices encode many people travel from one set of locations (e.g. neighbourhoods) to another set of location (e.g. destinations). These are sometimes called *flow* or *trip* tables.\n",
    "\n",
    "In urban geography application, this data often represents people travelling in the city, to or from specific types of places. But it can also be used to represent the transport or travel of other phenomena e.g. goods, money, wildlife, etc.\n",
    "\n",
    "This data can be based on real observations e.g. from administrative data that includes visiting patients' addresses or a survey that asks about daily travel. The data can also be *simulated*, i.e. estimated, based on a model that predicts trips between locations.\n",
    "\n",
    "The toy data that we are going to look at below is the latter, ersatz data of trips to hospitals in Calgary. Let's load it and take a look. The data have 3 columns; the first is the ID of a Census Dissemination Area (DA), the second is the ID of a hospital, and the third column is the number of visits from each DA to each hospital."
   ]
  },
  {
   "cell_type": "code",
   "execution_count": null,
   "id": "21af7745-fda4-4b41-abc5-9d50bbcce583",
   "metadata": {},
   "outputs": [],
   "source": [
    "od = pd.read_csv(\"data/od-flows.csv\")\n",
    "od.tail(5)"
   ]
  },
  {
   "cell_type": "markdown",
   "id": "e9a97c15-6f99-43ef-a681-7aa182e71fdd",
   "metadata": {},
   "source": [
    "When working with data like this, it is sometimes the case that the data are available in a *wide* format, where the rows pertain to the origin (e.g. Dissemination Area) and the columns pertain to the destination (e.g. hospitals), instead of the *long* format shown above.\n",
    "\n",
    "In pandas, it's super easy to `pivot` from long to wide."
   ]
  },
  {
   "cell_type": "code",
   "execution_count": null,
   "id": "7e82f667-dfac-46bb-86f5-c391546a7527",
   "metadata": {},
   "outputs": [],
   "source": [
    "od_wide = od.pivot_table(index='dauid', columns='hospital_id', values='trips')\n",
    "od_wide.tail(5)"
   ]
  },
  {
   "cell_type": "markdown",
   "id": "5ac72ca1-2ab7-4108-b85c-f2b532ca4715",
   "metadata": {},
   "source": [
    "Here's how to `melt` from wide to long if you need to."
   ]
  },
  {
   "cell_type": "code",
   "execution_count": null,
   "id": "89d142cf-3d40-4103-8725-dcebaa9de572",
   "metadata": {},
   "outputs": [],
   "source": [
    "od_wide.reset_index().melt(\n",
    "    id_vars='dauid', \n",
    "    value_vars=[0,1,2,3,4], \n",
    "    var_name=\"hospital_id\", \n",
    "    value_name=\"population\"\n",
    ").head(5)"
   ]
  },
  {
   "cell_type": "markdown",
   "id": "0385e419-f1c4-497c-ba9c-8437e09f1aec",
   "metadata": {},
   "source": [
    "We also have location data for the centroids of Dissemination Areas (DAs) and the hospitals. Let's load these and quickly plot them to take a look:"
   ]
  },
  {
   "cell_type": "code",
   "execution_count": null,
   "id": "396e6dd9-00d4-40cc-aa09-e9e4804e11df",
   "metadata": {},
   "outputs": [],
   "source": [
    "da = gpd.read_file(\"data/da-2021-centroids.geojson\")\n",
    "da_poly = gpd.read_file(\"data/da-2021-polygons.geojson\")\n",
    "hp = gpd.read_file(\"data/hospital-locations.geojson\")\n",
    "\n",
    "fig, ax = plt.subplots(figsize=(6,6))\n",
    "da_poly.plot(\n",
    "    ax = ax,\n",
    "    edgecolor = 'LightGray',\n",
    "    linewidth = 0.5,\n",
    "    color = \"White\"\n",
    ")\n",
    "da.plot(\n",
    "    ax = ax,\n",
    "    color = 'LightBlue',\n",
    "    markersize = 4\n",
    ")\n",
    "hp.plot(\n",
    "    ax = ax,\n",
    "    color = 'Black',\n",
    "    markersize = 22\n",
    ").set_axis_off()"
   ]
  },
  {
   "cell_type": "markdown",
   "id": "7e666164-36c7-499e-8b6e-aa92a97e04a2",
   "metadata": {},
   "source": [
    "For a flow map, we want to connect the two sets of points, and then style the lines based a weight connecting them, in this case number of trips between them.\n",
    "\n",
    "For this, we are essentially creating a straight *line* geometry for every row in `od`. We can do this by first joining in the coordinates to the `od` flow matrix"
   ]
  },
  {
   "cell_type": "code",
   "execution_count": null,
   "id": "cd60b19e-df7c-4c2b-95b2-ec6107e1bbd3",
   "metadata": {},
   "outputs": [],
   "source": [
    "da['dauid'] = da['name'].astype('int64')\n",
    "odm = od.merge(\n",
    "    da, \n",
    "    how='left', \n",
    "    on = \"dauid\"\n",
    ").merge(\n",
    "    hp, \n",
    "    how='left', \n",
    "    left_on='hospital_id',\n",
    "    right_on='id'\n",
    ")"
   ]
  },
  {
   "cell_type": "markdown",
   "id": "738e10dd-3e1e-4e5f-ad4b-d72e103ba47a",
   "metadata": {},
   "source": [
    "Then we use some [shapely](https://shapely.readthedocs.io/en/stable/index.html) magic to combine the two point geometries into a line geometry. We're also only keeping the other columns that we need for mapping."
   ]
  },
  {
   "cell_type": "code",
   "execution_count": null,
   "id": "882b118b-28f7-4646-ba24-777a21470691",
   "metadata": {},
   "outputs": [],
   "source": [
    "odm = gpd.GeoDataFrame(\n",
    "    {\n",
    "        'dauid': odm['dauid'],\n",
    "        'hospital_id': odm['hospital_id'],\n",
    "        'trips': odm['trips'],\n",
    "        'geometry': odm.apply(\n",
    "            lambda x: LineString([x['geometry_x'], x['geometry_y']]), axis=1\n",
    "        )\n",
    "    }\n",
    ").set_crs(epsg=\"4326\")\n",
    "\n",
    "# saving to file\n",
    "odm.to_file(\"data/od-flow-lines.geojson\", driver=\"GeoJSON\")"
   ]
  },
  {
   "cell_type": "markdown",
   "id": "7a9d3b4a-09b4-441e-aaab-ad0e8ad28619",
   "metadata": {},
   "source": [
    "Let's plot!"
   ]
  },
  {
   "cell_type": "code",
   "execution_count": null,
   "id": "720028ee-3388-45e3-a482-f4ae2c38942e",
   "metadata": {},
   "outputs": [],
   "source": [
    "fig, ax = plt.subplots(figsize=(6,6))\n",
    "odm.plot(\n",
    "    ax = ax,\n",
    "    linewidth = 0.25,\n",
    "    color = 'Black'\n",
    ").set_axis_off()"
   ]
  },
  {
   "cell_type": "markdown",
   "id": "abb919cb-9e30-4e70-99e6-998fbd2a669a",
   "metadata": {},
   "source": [
    "That's a bit of a mess, but it *looks like* the lines are all there. There are a few simple ways to distinguish lines with more trips, and dim those with fewer. The first is to have the line width be a function of the number of trips"
   ]
  },
  {
   "cell_type": "code",
   "execution_count": null,
   "id": "b429fc0b-f8a2-4ce2-bb5a-b63073467989",
   "metadata": {},
   "outputs": [],
   "source": [
    "fig, ax = plt.subplots(figsize=(6,6))\n",
    "odm.plot(\n",
    "    ax = ax,\n",
    "    linewidth = odm[\"trips\"] / 1000,\n",
    "    color = 'Black'\n",
    ").set_axis_off()"
   ]
  },
  {
   "cell_type": "markdown",
   "id": "8d75d067-af95-4036-9289-5f12202acd50",
   "metadata": {},
   "source": [
    "We can also plot based on the function of the opacity of the line (i.e. less transparency if the connection has more trips). In the `plot` function, `alpha` controls the opacity, and ranges from 0 to 1. To normalize the `trips` column just by dividing by its max value."
   ]
  },
  {
   "cell_type": "code",
   "execution_count": null,
   "id": "47a14db9-ad0a-4132-a5a3-39baee89dacc",
   "metadata": {},
   "outputs": [],
   "source": [
    "fig, ax = plt.subplots(figsize=(6,6))\n",
    "odm.plot(\n",
    "    ax = ax,\n",
    "    linewidth = 1,\n",
    "    alpha = odm['trips'] / odm['trips'].max(),\n",
    "    color = 'Black'\n",
    ").set_axis_off()"
   ]
  },
  {
   "cell_type": "markdown",
   "id": "eecd0224-a0ef-43d2-976c-61215045463b",
   "metadata": {},
   "source": [
    "Let's try to better distinguish flows to each hospital, i.e. to approximately what the catchment is of visitors to each. We can do this via colour! Below we combine categorical colouring with dynamic opacity styling"
   ]
  },
  {
   "cell_type": "code",
   "execution_count": null,
   "id": "e663a341-9df0-4a0c-b8e0-1e02801389a1",
   "metadata": {},
   "outputs": [],
   "source": [
    "# specifying the colour and opacity of each line\n",
    "\n",
    "colour_mapping = {\n",
    "    0: \"#DC4633\",  \n",
    "    1: \"#8DBF2E\",\n",
    "    2: \"#F1C500\",\n",
    "    3: \"#00A189\",\n",
    "    4: \"#6FC7EA\",\n",
    "}\n",
    "odm[\"colour\"] = odm[\"hospital_id\"].map(colour_mapping)\n",
    "\n",
    "odm[\"opacity\"] = odm[\"trips\"] / 250\n",
    "odm['opacity'] = odm['opacity'].clip(upper=1)\n",
    "                   \n",
    "# plotting them all on a single plot!\n",
    "    \n",
    "fig, ax = plt.subplots(figsize=(7,7), facecolor='black')\n",
    "\n",
    "da_poly.plot(\n",
    "    ax = ax,\n",
    "    edgecolor = '#484848',\n",
    "    linewidth = 2,\n",
    "    color = \"Black\"\n",
    ")\n",
    "da_poly.plot(\n",
    "    ax = ax,\n",
    "    edgecolor = '#2B2B2B',\n",
    "    linewidth = 0.5,\n",
    "    color = \"Black\"\n",
    ")\n",
    "\n",
    "for hospital in [0,1,2,3,4]:\n",
    "    odp = odm[odm[\"hospital_id\"] == hospital]\n",
    "    odp.plot(\n",
    "        ax=ax, \n",
    "        linewidth=1, \n",
    "        alpha=odp[\"opacity\"], \n",
    "        color=odp['colour'], \n",
    "        zorder = 1\n",
    "    )\n",
    "    \n",
    "for hospital in [0,1,2,3,4]:\n",
    "    odp = odm[odm[\"hospital_id\"] == hospital]\n",
    "    odp.plot(\n",
    "        ax=ax, \n",
    "        linewidth=2, \n",
    "        alpha=odp[\"opacity\"] / 3, \n",
    "        color=odp['colour'], \n",
    "        zorder = 2\n",
    "    )\n",
    "    \n",
    "hp.plot(\n",
    "    ax = ax,\n",
    "    color = 'White',\n",
    "    markersize = 40,\n",
    "    zorder = 3\n",
    ")\n",
    "\n",
    "ax.set_title(\n",
    "    'Travel to Hospitals in Calgary', \n",
    "    fontsize=10,\n",
    "    loc = \"left\"\n",
    ").set_color('LightGray')\n",
    "\n",
    "ax.set_axis_off()\n",
    "\n",
    "fig.savefig('images/calgary-hospital-map-all-python-export.png')"
   ]
  },
  {
   "cell_type": "markdown",
   "id": "892c709a-85f6-47a6-802b-09671604eaf1",
   "metadata": {},
   "source": [
    "The above map views nicely, but it can be a bit difficult to parse out travel to any specific hospital. One solution to this are small multiples, where we create 5 smaller plots, each focusing on a specific hospital."
   ]
  },
  {
   "cell_type": "code",
   "execution_count": null,
   "id": "24c0593d-4033-4d03-97c4-f6bd21c2f3b0",
   "metadata": {},
   "outputs": [],
   "source": [
    "fig, ax = plt.subplots(ncols=5, nrows=1, figsize=(15,5), facecolor='black')\n",
    "\n",
    "for hospital in [0,1,2,3,4]:\n",
    "    \n",
    "    # data layers\n",
    "    \n",
    "    odp = odm[odm[\"hospital_id\"] == hospital]\n",
    "    da_poly.plot(\n",
    "        ax = ax[hospital],\n",
    "        edgecolor = '#484848',\n",
    "        linewidth = 2,\n",
    "        color = \"Black\"\n",
    "    )\n",
    "    da_poly.plot(\n",
    "        ax = ax[hospital],\n",
    "        edgecolor = '#2B2B2B',\n",
    "        linewidth = 0.5,\n",
    "        color = \"Black\"\n",
    "    )\n",
    "    odp.plot(\n",
    "        ax=ax[hospital], \n",
    "        linewidth=1, \n",
    "        alpha=odp[\"opacity\"], \n",
    "        color=odp['colour'], \n",
    "        zorder = 1\n",
    "    )\n",
    "    hp[hp[\"id\"] == hospital].plot(\n",
    "        ax = ax[hospital],\n",
    "        color = 'White',\n",
    "        markersize = 10,\n",
    "        zorder = 3\n",
    "    ).set_axis_off()\n",
    "    \n",
    "    # titles\n",
    "    \n",
    "    ax[hospital].set_title(\n",
    "        hp.loc[hospital, 'facility_name'], \n",
    "        fontsize=8,\n",
    "        loc='center'\n",
    "    ).set_color('White')\n",
    "\n",
    "# overall title and save to file\n",
    "    \n",
    "fig.suptitle(\n",
    "    'Travel to Hospitals in Calgary', \n",
    "    fontsize=13\n",
    ").set_color('White')\n",
    "\n",
    "fig.tight_layout(rect=[0, 0.03, 1, 0.95])\n",
    "fig.subplots_adjust(top=0.9, bottom=0.1)\n",
    "\n",
    "fig.savefig('images/calgary-hospital-map-multipes-python-export.png')"
   ]
  }
 ],
 "metadata": {
  "kernelspec": {
   "display_name": "Python 3 (ipykernel)",
   "language": "python",
   "name": "python3"
  },
  "language_info": {
   "codemirror_mode": {
    "name": "ipython",
    "version": 3
   },
   "file_extension": ".py",
   "mimetype": "text/x-python",
   "name": "python",
   "nbconvert_exporter": "python",
   "pygments_lexer": "ipython3",
   "version": "3.10.5"
  }
 },
 "nbformat": 4,
 "nbformat_minor": 5
}
