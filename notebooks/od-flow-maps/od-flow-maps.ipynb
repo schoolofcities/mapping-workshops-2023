{
 "cells": [
  {
   "cell_type": "code",
   "execution_count": 1,
   "id": "530f3321-dfa1-4296-87d5-138009f8b47a",
   "metadata": {},
   "outputs": [],
   "source": [
    "import warnings\n",
    "warnings.filterwarnings('ignore')"
   ]
  },
  {
   "cell_type": "markdown",
   "id": "7c7ca5c5-978e-4a6e-a98e-c4194ddbe536",
   "metadata": {},
   "source": [
    "# Origin-Destination Flow Maps\n",
    "\n",
    "[Jeff Allen](http://jamaps.github.io)\n",
    "\n",
    "April, 2023"
   ]
  },
  {
   "cell_type": "markdown",
   "id": "d6a1e1de-eea3-4a07-9dc1-3325766bd0b0",
   "metadata": {},
   "source": [
    "Intro text"
   ]
  },
  {
   "cell_type": "markdown",
   "id": "9a08da26-6371-4b5f-89ec-6b29ac21827f",
   "metadata": {},
   "source": [
    "Image"
   ]
  },
  {
   "cell_type": "markdown",
   "id": "ea7a32e5-aa95-4b5f-b5fb-2081afa7a356",
   "metadata": {},
   "source": [
    "More intro text"
   ]
  },
  {
   "cell_type": "code",
   "execution_count": null,
   "id": "4a35a69b-fd9b-4671-b31c-5b51ea51905c",
   "metadata": {},
   "outputs": [],
   "source": []
  }
 ],
 "metadata": {
  "kernelspec": {
   "display_name": "Python 3 (ipykernel)",
   "language": "python",
   "name": "python3"
  },
  "language_info": {
   "codemirror_mode": {
    "name": "ipython",
    "version": 3
   },
   "file_extension": ".py",
   "mimetype": "text/x-python",
   "name": "python",
   "nbconvert_exporter": "python",
   "pygments_lexer": "ipython3",
   "version": "3.10.5"
  }
 },
 "nbformat": 4,
 "nbformat_minor": 5
}
